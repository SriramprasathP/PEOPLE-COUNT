{
 "cells": [
  {
   "cell_type": "code",
   "execution_count": null,
   "id": "b38cfa12-db1c-46ed-9b0e-dcf4dd221793",
   "metadata": {},
   "outputs": [],
   "source": [
    "import cv2\n",
    "import torch\n",
    "\n",
    "# Load YOLOv5 model (from Ultralytics)\n",
    "model = torch.hub.load('ultralytics/yolov5', 'yolov5s')  # small, fast, decent accuracy\n",
    "model.classes = [0]  # Only detect people (class 0 in COCO dataset)\n",
    "\n",
    "# Initialize video capture\n",
    "cap = cv2.VideoCapture('C:\\\\Users\\\\SRIRAM\\\\Downloads\\\\istockphoto-1423119278-640_adpp_is.mp4')  # Use 0 for webcam or replace with video file path\n",
    "\n",
    "while True:\n",
    "    ret, frame = cap.read(0)\n",
    "    if not ret:\n",
    "        break\n",
    "\n",
    "    # Inference\n",
    "    results = model(frame)\n",
    "    detections = results.pred[0]\n",
    "\n",
    "    person_count = 0\n",
    "    for *xyxy, conf, cls in detections:\n",
    "        if int(cls) == 0:  # Class 0 = person\n",
    "            person_count += 1\n",
    "            cv2.rectangle(frame, (int(xyxy[0]), int(xyxy[1])), (int(xyxy[2]), int(xyxy[3])), (0, 255, 0), 2)\n",
    "\n",
    "    # Display the count\n",
    "    cv2.putText(frame, f'People Count: {person_count}', (10, 30), cv2.FONT_HERSHEY_SIMPLEX, 1, (0, 255, 255), 2)\n",
    "    cv2.imshow('Head Counter', frame)\n",
    "\n",
    "    # Press 'q' to exit\n",
    "    if cv2.waitKey(1) & 0xFF == ord('q'):\n",
    "        break\n",
    "\n",
    "cap.release()\n",
    "cv2.destroyAllWindows()\n"
   ]
  },
  {
   "cell_type": "code",
   "execution_count": null,
   "id": "0e6bd84a-8eda-49aa-b8a4-84bb44310a13",
   "metadata": {},
   "outputs": [],
   "source": []
  }
 ],
 "metadata": {
  "kernelspec": {
   "display_name": "python313",
   "language": "python",
   "name": "python313"
  },
  "language_info": {
   "codemirror_mode": {
    "name": "ipython",
    "version": 3
   },
   "file_extension": ".py",
   "mimetype": "text/x-python",
   "name": "python",
   "nbconvert_exporter": "python",
   "pygments_lexer": "ipython3",
   "version": "3.13.5"
  }
 },
 "nbformat": 4,
 "nbformat_minor": 5
}
